{
 "cells": [
  {
   "cell_type": "code",
   "execution_count": 1,
   "metadata": {},
   "outputs": [],
   "source": [
    "# Import relevant packages\n",
    "#Import Modules\n",
    "import os\n",
    "import numpy as np\n",
    "import pandas as pd\n",
    "import requests\n",
    "import datetime as dt\n",
    "import random\n",
    "# BDay is business day\n",
    "from pandas.tseries.offsets import BDay\n",
    "import math\n",
    "import time\n",
    "import calendar\n",
    "import re\n",
    "from sqlalchemy import create_engine\n",
    "import pymysql\n",
    "import warnings\n",
    "warnings.filterwarnings('ignore')\n",
    "from sqlalchemy.orm import Session\n",
    "from Config import pwd, user, host, port, dbname "
   ]
  },
  {
   "cell_type": "code",
   "execution_count": 2,
   "metadata": {},
   "outputs": [],
   "source": [
    "pymysql.install_as_MySQLdb() \n",
    "string = f\"mysql://{user}:{pwd}@{host}/{dbname}\"\n",
    "engine = create_engine(string)\n",
    "# Establish a connection to the local DB\n",
    "conn = engine.connect()\n",
    "# Import and establish Base for which classes will be constructed\n",
    "from sqlalchemy.ext.declarative import declarative_base\n",
    "Base = declarative_base()\n",
    "# Import modules to declare columns and column data types\n",
    "from sqlalchemy import Column, Integer, String, Float,Text"
   ]
  },
  {
   "cell_type": "code",
   "execution_count": null,
   "metadata": {},
   "outputs": [],
   "source": [
    "full_table = pd.read_excel(\"Ebitda_final_table_percent.xlsx\")"
   ]
  },
  {
   "cell_type": "code",
   "execution_count": null,
   "metadata": {},
   "outputs": [],
   "source": [
    "final = full_table[[\"symbol\",\"gics_sector\",\"gics_sub_industry\",\"model\",\"percent_change\",\"current_price\",\"target_price\"]]"
   ]
  },
  {
   "cell_type": "code",
   "execution_count": null,
   "metadata": {},
   "outputs": [],
   "source": [
    "final"
   ]
  },
  {
   "cell_type": "code",
   "execution_count": null,
   "metadata": {},
   "outputs": [],
   "source": [
    "final = pd.read_excel(\"EBITA_final_to_SQL.xlsx\")\n",
    "final.head()"
   ]
  },
  {
   "cell_type": "code",
   "execution_count": null,
   "metadata": {},
   "outputs": [],
   "source": [
    "class ebitda_multiple (Base):\n",
    "    __tablename__ = 'ebitda_multiple'\n",
    "    symbol = Column(\"symbol\",String(100),primary_key=True)\n",
    "    gics_sector = Column(\"gics_sector\",String(100))\n",
    "    gics_sub_industry = Column(\"gics_sub_industry\", String(100))\n",
    "    model = Column(\"model\", String(100))\n",
    "    percent_change = Column(\"percent_change\", Float)\n",
    "    current_price = Column(\"current_price\", Float)\n",
    "    target_price = Column(\"target_price\", Float)\n",
    "    description = Column(\"description\", Text())\n",
    "    "
   ]
  },
  {
   "cell_type": "code",
   "execution_count": 4,
   "metadata": {},
   "outputs": [],
   "source": [
    "# Create both the company_diversity_m_f and company_diversity_race tables within the database\n",
    "Base.metadata.create_all(conn)\n",
    "# confirming that tables got created in the DB\n",
    "engine.table_names()\n",
    "# Create a session that binds to the engine to enable insert of data\n",
    "session = Session(bind=engine)"
   ]
  },
  {
   "cell_type": "code",
   "execution_count": null,
   "metadata": {},
   "outputs": [],
   "source": [
    "final.to_sql(name=\"ebitda_multiple\", con=engine, if_exists='append',index=False)"
   ]
  },
  {
   "cell_type": "code",
   "execution_count": 5,
   "metadata": {},
   "outputs": [],
   "source": [
    "ev_sales_multiple_to_push = pd.read_csv(\"ev_sales_multiple.csv\")"
   ]
  },
  {
   "cell_type": "code",
   "execution_count": 6,
   "metadata": {},
   "outputs": [],
   "source": [
    "ev_sales_multiple_to_push.drop(columns=\"Unnamed: 0\", inplace=True)"
   ]
  },
  {
   "cell_type": "code",
   "execution_count": 7,
   "metadata": {},
   "outputs": [
    {
     "data": {
      "text/html": [
       "<div>\n",
       "<style scoped>\n",
       "    .dataframe tbody tr th:only-of-type {\n",
       "        vertical-align: middle;\n",
       "    }\n",
       "\n",
       "    .dataframe tbody tr th {\n",
       "        vertical-align: top;\n",
       "    }\n",
       "\n",
       "    .dataframe thead th {\n",
       "        text-align: right;\n",
       "    }\n",
       "</style>\n",
       "<table border=\"1\" class=\"dataframe\">\n",
       "  <thead>\n",
       "    <tr style=\"text-align: right;\">\n",
       "      <th></th>\n",
       "      <th>symbol</th>\n",
       "      <th>gics_sector</th>\n",
       "      <th>gics_sub_industry</th>\n",
       "      <th>model</th>\n",
       "      <th>percent_change</th>\n",
       "      <th>current_price</th>\n",
       "      <th>target_price</th>\n",
       "    </tr>\n",
       "  </thead>\n",
       "  <tbody>\n",
       "    <tr>\n",
       "      <th>0</th>\n",
       "      <td>XRAY</td>\n",
       "      <td>Health Care</td>\n",
       "      <td>Health Care Supplies</td>\n",
       "      <td>ev_sales_multiple</td>\n",
       "      <td>60.873073</td>\n",
       "      <td>37.21</td>\n",
       "      <td>59.860870</td>\n",
       "    </tr>\n",
       "    <tr>\n",
       "      <th>1</th>\n",
       "      <td>XOM</td>\n",
       "      <td>Energy</td>\n",
       "      <td>Integrated Oil &amp; Gas</td>\n",
       "      <td>ev_sales_multiple</td>\n",
       "      <td>123.478289</td>\n",
       "      <td>68.19</td>\n",
       "      <td>152.389845</td>\n",
       "    </tr>\n",
       "    <tr>\n",
       "      <th>2</th>\n",
       "      <td>XEC</td>\n",
       "      <td>Energy</td>\n",
       "      <td>Oil &amp; Gas Exploration &amp; Production</td>\n",
       "      <td>ev_sales_multiple</td>\n",
       "      <td>-19.556743</td>\n",
       "      <td>61.65</td>\n",
       "      <td>49.593268</td>\n",
       "    </tr>\n",
       "    <tr>\n",
       "      <th>3</th>\n",
       "      <td>TXT</td>\n",
       "      <td>Industrials</td>\n",
       "      <td>Aerospace &amp; Defense</td>\n",
       "      <td>ev_sales_multiple</td>\n",
       "      <td>156.387959</td>\n",
       "      <td>45.65</td>\n",
       "      <td>117.041103</td>\n",
       "    </tr>\n",
       "    <tr>\n",
       "      <th>4</th>\n",
       "      <td>TXN</td>\n",
       "      <td>Information Technology</td>\n",
       "      <td>Semiconductors</td>\n",
       "      <td>ev_sales_multiple</td>\n",
       "      <td>-20.779924</td>\n",
       "      <td>94.50</td>\n",
       "      <td>74.862972</td>\n",
       "    </tr>\n",
       "  </tbody>\n",
       "</table>\n",
       "</div>"
      ],
      "text/plain": [
       "  symbol             gics_sector                   gics_sub_industry  \\\n",
       "0   XRAY             Health Care                Health Care Supplies   \n",
       "1    XOM                  Energy                Integrated Oil & Gas   \n",
       "2    XEC                  Energy  Oil & Gas Exploration & Production   \n",
       "3    TXT             Industrials                 Aerospace & Defense   \n",
       "4    TXN  Information Technology                      Semiconductors   \n",
       "\n",
       "               model  percent_change  current_price  target_price  \n",
       "0  ev_sales_multiple       60.873073          37.21     59.860870  \n",
       "1  ev_sales_multiple      123.478289          68.19    152.389845  \n",
       "2  ev_sales_multiple      -19.556743          61.65     49.593268  \n",
       "3  ev_sales_multiple      156.387959          45.65    117.041103  \n",
       "4  ev_sales_multiple      -20.779924          94.50     74.862972  "
      ]
     },
     "execution_count": 7,
     "metadata": {},
     "output_type": "execute_result"
    }
   ],
   "source": [
    "ev_sales_multiple_to_push.head()"
   ]
  },
  {
   "cell_type": "code",
   "execution_count": 3,
   "metadata": {},
   "outputs": [],
   "source": [
    "class ev_sales_multiple (Base):\n",
    "    __tablename__ = 'ev_sales_multiple'\n",
    "    symbol = Column(\"symbol\",String(100),primary_key=True)\n",
    "    gics_sector = Column(\"gics_sector\",String(100))\n",
    "    gics_sub_industry = Column(\"gics_sub_industry\", String(100))\n",
    "    model = Column(\"model\", String(100))\n",
    "    percent_change = Column(\"percent_change\", Float)\n",
    "    current_price = Column(\"current_price\", Float)\n",
    "    target_price = Column(\"target_price\", Float)\n",
    "    description = Column(\"description\", Text())"
   ]
  },
  {
   "cell_type": "code",
   "execution_count": 8,
   "metadata": {},
   "outputs": [],
   "source": [
    "ev_sales_multiple_to_push.to_sql(name=\"ev_sales_multiple\", con=engine, if_exists='append',index=False)"
   ]
  },
  {
   "cell_type": "code",
   "execution_count": null,
   "metadata": {},
   "outputs": [],
   "source": []
  }
 ],
 "metadata": {
  "kernelspec": {
   "display_name": "Python 3",
   "language": "python",
   "name": "python3"
  },
  "language_info": {
   "codemirror_mode": {
    "name": "ipython",
    "version": 3
   },
   "file_extension": ".py",
   "mimetype": "text/x-python",
   "name": "python",
   "nbconvert_exporter": "python",
   "pygments_lexer": "ipython3",
   "version": "3.6.7"
  }
 },
 "nbformat": 4,
 "nbformat_minor": 2
}
