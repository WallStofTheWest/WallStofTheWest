{
 "cells": [
  {
   "cell_type": "code",
   "execution_count": 1,
   "metadata": {},
   "outputs": [],
   "source": [
    "# import quandl\n",
    "# import caret"
   ]
  },
  {
   "cell_type": "code",
   "execution_count": 40,
   "metadata": {},
   "outputs": [],
   "source": [
    "import pymysql\n",
    "import pandas as pd\n",
    "\n",
    "host=\"stock-data-analysis.ciuxgx1cjbsw.us-east-2.rds.amazonaws.com\"\n",
    "\n",
    "port=3306\n",
    "\n",
    "dbname=\"stock_data\"\n",
    "\n",
    "user=\"ucbx\"\n",
    "\n",
    "password=\"Welcome123\"\n",
    "\n",
    "conn = pymysql.connect(host, user = user, port=port, passwd=password, db=dbname)"
   ]
  },
  {
   "cell_type": "code",
   "execution_count": 75,
   "metadata": {},
   "outputs": [],
   "source": [
    "# Create S&P500 DataFrame\n",
    "sp500_with_sub_sects = pd.read_sql('select symbol from stock_data.tenyr_return_full;', con=conn)\n",
    "df = pd.DataFrame(data=sp500_with_sub_sects,index=None)\n",
    "symbol = df['symbol'].tolist()\n"
   ]
  },
  {
   "cell_type": "code",
   "execution_count": 77,
   "metadata": {},
   "outputs": [
    {
     "name": "stdout",
     "output_type": "stream",
     "text": [
      "Enter your choice : AAPL\n",
      "You've selected: AAPL\n",
      "Do you wish to use default date range? (y|n)y\n",
      "Your start date is: 2017-01-01 \n",
      "\n",
      "Your end date is: 2018-01-01 \n",
      "\n"
     ]
    }
   ],
   "source": [
    "#Tickers of companies\n",
    "# comp = [\"MSFT\",\"AAPL\",\"IBM\",\"NKE\",\"CSCO\",\"MCD\",\"INTC\",\"MMM\",\"KO\",\"DIS\"]\n",
    "comp = symbol\n",
    "\n",
    "choice = str(input(\"Enter your choice : \"))\n",
    "if choice in comp:\n",
    "    stock_choice = choice\n",
    "    print(\"You've selected:\", choice)\n",
    "else:\n",
    "    print(\"Invalid Input\")\n",
    "\n",
    "#Default date range\n",
    "start_date = \"2017-01-01\"\n",
    "end_date = \"2018-01-01\"\n",
    "\n",
    "date_choice = str(input(\"Do you wish to use default date range? (y|n)\"))\n",
    "\n",
    "if date_choice in date_choice == \"y\":\n",
    "    date_choice = [start_date, end_date]\n",
    "    print(\"Your start date is:\", start_date,\"\\n\")\n",
    "    print(\"Your end date is:\", end_date,\"\\n\")\n",
    "\n",
    "else: \n",
    "    select_start_date = str(input(\"Enter the start date to be fetched YYYY-MM-DD\"))\n",
    "    print(\"You've selected:\", select_start_date,\"\\n\")\n",
    "    select_end_date = str(input(\"Enter the end date to be fetched YYYY-MM-DD\"))\n",
    "    print(\"You've selected:\", select_end_date,\"\\n\")\n",
    "    date_choice = [select_start_date, select_end_date]"
   ]
  },
  {
   "cell_type": "code",
   "execution_count": 78,
   "metadata": {},
   "outputs": [
    {
     "data": {
      "text/plain": [
       "['2017-01-01', '2018-01-01']"
      ]
     },
     "execution_count": 78,
     "metadata": {},
     "output_type": "execute_result"
    }
   ],
   "source": [
    "date_choice"
   ]
  },
  {
   "cell_type": "code",
   "execution_count": 79,
   "metadata": {},
   "outputs": [
    {
     "data": {
      "text/plain": [
       "'AAPL'"
      ]
     },
     "execution_count": 79,
     "metadata": {},
     "output_type": "execute_result"
    }
   ],
   "source": [
    "stock_choice"
   ]
  },
  {
   "cell_type": "code",
   "execution_count": null,
   "metadata": {},
   "outputs": [],
   "source": []
  }
 ],
 "metadata": {
  "kernelspec": {
   "display_name": "Python 3",
   "language": "python",
   "name": "python3"
  },
  "language_info": {
   "codemirror_mode": {
    "name": "ipython",
    "version": 3
   },
   "file_extension": ".py",
   "mimetype": "text/x-python",
   "name": "python",
   "nbconvert_exporter": "python",
   "pygments_lexer": "ipython3",
   "version": "3.6.8"
  }
 },
 "nbformat": 4,
 "nbformat_minor": 2
}
